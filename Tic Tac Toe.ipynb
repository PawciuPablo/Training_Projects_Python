{
 "cells": [
  {
   "cell_type": "code",
   "execution_count": null,
   "id": "5f8475ab",
   "metadata": {},
   "outputs": [],
   "source": [
    "from IPython.display import clear_output\n",
    "\n",
    "def display_board(board):\n",
    "    clear_output()\n",
    "    print(board[7] + ' | ' + board[8] + ' | ' + board[9])\n",
    "    print('---------')\n",
    "    print(board[4] + ' | ' + board[5] + ' | ' + board[6])\n",
    "    print('---------')\n",
    "    print(board[1] + ' | ' + board[2] + ' | ' + board[3])"
   ]
  },
  {
   "cell_type": "code",
   "execution_count": null,
   "id": "c2c90cf6",
   "metadata": {},
   "outputs": [],
   "source": [
    "def player_input():\n",
    "    \n",
    "    player1_marker = 'wrong'\n",
    "    \n",
    "    good_choices = ['X', 'O']\n",
    "    \n",
    "    while player1_marker not in good_choices:\n",
    "        \n",
    "        player1_marker = input('Hello Player 1! Please choose your marker (X or O): ')\n",
    "        \n",
    "        if player1_marker not in good_choices:\n",
    "            print('Sorry, invalid input! Please choose X or O ')\n",
    "    \n",
    "    if player1_marker == 'X':\n",
    "        player2_marker = 'O'\n",
    "    else:\n",
    "        player2_marker = 'X'\n",
    "    \n",
    "    return (player1_marker, player2_marker)"
   ]
  },
  {
   "cell_type": "code",
   "execution_count": null,
   "id": "4e4502fd",
   "metadata": {},
   "outputs": [],
   "source": [
    "def place_marker(board, marker, position):\n",
    "    board[position] = marker"
   ]
  },
  {
   "cell_type": "code",
   "execution_count": null,
   "id": "a366f855",
   "metadata": {},
   "outputs": [],
   "source": [
    "def win_check(board, mark):\n",
    "    if board[1] == board[2] == board[3] == mark:\n",
    "        return True\n",
    "    elif board[4] == board[5] == board[6] == mark:\n",
    "        return True\n",
    "    elif board[7] == board[8] == board[9] == mark:\n",
    "        return True\n",
    "    elif board[1] == board[4] == board[7] == mark:\n",
    "        return True\n",
    "    elif board[2] == board[5] == board[8] == mark:\n",
    "        return True\n",
    "    elif board[3] == board[6] == board[9] == mark:\n",
    "        return True\n",
    "    elif board[1] == board[5] == board[9] == mark:\n",
    "        return True\n",
    "    elif board[3] == board[5] == board[7] == mark:\n",
    "        return True\n",
    "    else:\n",
    "        return False"
   ]
  },
  {
   "cell_type": "code",
   "execution_count": null,
   "id": "2a77db84",
   "metadata": {},
   "outputs": [],
   "source": [
    "import random\n",
    "\n",
    "def choose_first():\n",
    "    who_is_first = random.randint(1, 2)\n",
    "    \n",
    "    if who_is_first == 1:\n",
    "        return 'Player 1'\n",
    "    else:\n",
    "        return 'Player 2'"
   ]
  },
  {
   "cell_type": "code",
   "execution_count": null,
   "id": "b823b8b2",
   "metadata": {},
   "outputs": [],
   "source": [
    "def space_check(board, position):\n",
    "    if board[position] == ' ':\n",
    "        return True\n",
    "    else:\n",
    "        return False"
   ]
  },
  {
   "cell_type": "code",
   "execution_count": null,
   "id": "cf6648b2",
   "metadata": {},
   "outputs": [],
   "source": [
    "def full_board_check(board):\n",
    "    for i in range (1,10):\n",
    "        if space_check(board, i):\n",
    "            return False\n",
    "    return True"
   ]
  },
  {
   "cell_type": "code",
   "execution_count": null,
   "id": "ccc0176c",
   "metadata": {},
   "outputs": [],
   "source": [
    "def player_choice(board):\n",
    "    \n",
    "    position = 0\n",
    "    while position not in [1,2,3,4,5,6,7,8,9] or not space_check(board, position):\n",
    "    \n",
    "        position = int(input('Please choose your next position (number 1-9): '))\n",
    "    \n",
    "    return position"
   ]
  },
  {
   "cell_type": "code",
   "execution_count": null,
   "id": "be80384e",
   "metadata": {},
   "outputs": [],
   "source": [
    "def replay():\n",
    "    \n",
    "    answer = 'Wrong'\n",
    "    \n",
    "    while answer not in ['Y', 'N']:\n",
    "        \n",
    "        answer = input('Do you want to play again? (Y or N): ')\n",
    "        \n",
    "        if answer not in ['Y', 'N']:\n",
    "            print('Please choose Y or N')\n",
    "        else:\n",
    "            if answer == 'Y':\n",
    "                return True\n",
    "            else:\n",
    "                return False"
   ]
  },
  {
   "cell_type": "code",
   "execution_count": null,
   "id": "9f193d21",
   "metadata": {},
   "outputs": [],
   "source": []
  },
  {
   "cell_type": "code",
   "execution_count": null,
   "id": "01950ec5",
   "metadata": {},
   "outputs": [],
   "source": [
    "print('Welcome to Tic Tac Toe!')\n",
    "\n",
    "# While loop to keep running the game\n",
    "while True:\n",
    "    \n",
    "    # Setting everything up\n",
    "    Board = [' ', ' ', ' ', ' ', ' ', ' ', ' ', ' ', ' ', ' ']\n",
    "    player1_marker, player2_marker = player_input()\n",
    "    turn = choose_first()\n",
    "    print('Lucky you ' + turn + '! You go first!')\n",
    "    play_game = 'Wrong'\n",
    "    \n",
    "    while play_game not in ['Y', 'N']:\n",
    "        \n",
    "        play_game = input('Are you ready to play? Enter Y or N:' )\n",
    "    \n",
    "        if play_game not in ['Y', 'N']:\n",
    "            print(' Please enter Y or N')\n",
    "        else:\n",
    "            if play_game == 'Y':\n",
    "                game_on = True\n",
    "            else:\n",
    "                game_on = False\n",
    "\n",
    "        while game_on:\n",
    "            if turn == 'Player 1':\n",
    "                display_board(Board)\n",
    "                position = player_choice(Board)\n",
    "                place_marker(Board, player1_marker, position)\n",
    "                \n",
    "                if win_check(Board, player1_marker):\n",
    "                    display_board(Board)\n",
    "                    print('Congratulations! You have won the game!')\n",
    "                    game_on = False\n",
    "                else:\n",
    "                    if full_board_check(Board):\n",
    "                        display_board(Board)\n",
    "                        print('The game is a draw!')\n",
    "                        break\n",
    "                    else:\n",
    "                        turn = 'Player 2'\n",
    "            \n",
    "            else:\n",
    "                display_board(Board)\n",
    "                position = player_choice(Board)\n",
    "                place_marker(Board, player2_marker, position)\n",
    "\n",
    "                if win_check(Board, player2_marker):\n",
    "                    display_board(Board)\n",
    "                    print('Player 2 has won!')\n",
    "                    game_on = False\n",
    "                else:\n",
    "                    if full_board_check(Board):\n",
    "                        display_board(Board)\n",
    "                        print('The game is a draw!')\n",
    "                        break\n",
    "                    else:\n",
    "                        turn = 'Player 1'\n",
    "\n",
    "# Break out of the while loop\n",
    "    if not replay():\n",
    "        break"
   ]
  },
  {
   "cell_type": "code",
   "execution_count": null,
   "id": "b2d04460",
   "metadata": {},
   "outputs": [],
   "source": []
  }
 ],
 "metadata": {
  "kernelspec": {
   "display_name": "Python 3 (ipykernel)",
   "language": "python",
   "name": "python3"
  },
  "language_info": {
   "codemirror_mode": {
    "name": "ipython",
    "version": 3
   },
   "file_extension": ".py",
   "mimetype": "text/x-python",
   "name": "python",
   "nbconvert_exporter": "python",
   "pygments_lexer": "ipython3",
   "version": "3.9.12"
  }
 },
 "nbformat": 4,
 "nbformat_minor": 5
}
